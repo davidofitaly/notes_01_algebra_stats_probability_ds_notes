{
  "nbformat": 4,
  "nbformat_minor": 0,
  "metadata": {
    "colab": {
      "provenance": [],
      "authorship_tag": "ABX9TyNdKHC4zD/maF7jtzTY7U+U",
      "include_colab_link": true
    },
    "kernelspec": {
      "name": "python3",
      "display_name": "Python 3"
    },
    "language_info": {
      "name": "python"
    }
  },
  "cells": [
    {
      "cell_type": "markdown",
      "metadata": {
        "id": "view-in-github",
        "colab_type": "text"
      },
      "source": [
        "<a href=\"https://colab.research.google.com/github/davidofitaly/notes_01_algebra_stats_probability_ds_notes/blob/main/02_basic_probability_concepts.ipynb\" target=\"_parent\"><img src=\"https://colab.research.google.com/assets/colab-badge.svg\" alt=\"Open In Colab\"/></a>"
      ]
    },
    {
      "cell_type": "markdown",
      "source": [
        "### Table of contents:\n",
        "1. [Probability](#0)\n",
        "2. [Join probability](#1)\n",
        "3. [Alternative Probability](#2)\n",
        "4. [Bayes' Theorem](#3)\n",
        "5. [Conditional Probability](#4)\n",
        "6. [Combining Conditional and Alternative Probability](#5)\n",
        "7. [Binomial Distribution](#6)\n",
        "8. [Beta Distribution](#7)\n"
      ],
      "metadata": {
        "id": "xEHaqcwFywp6"
      }
    },
    {
      "cell_type": "markdown",
      "source": [
        "###<a name='0'></a>*Probability*"
      ],
      "metadata": {
        "id": "rGaqZMOlh8Kt"
      }
    },
    {
      "cell_type": "markdown",
      "source": [
        "##### In probability theory, **probability** is a measure of the likelihood that an event will occur. It is a value between 0 and 1, where 0 means the event will not occur and 1 means the event will certainly occur.\n",
        "\n",
        "##### Basic Probability Formula:\n",
        "#####The probability of an event $ A $ is given by:\n",
        "\n",
        "$$\n",
        "P(A) = \\frac{\\text{Number of favorable outcomes}}{\\text{Total number of possible outcomes}}\n",
        "$$\n",
        "\n",
        "##### Key Concepts:\n",
        "- **Sample Space ($S$):** The set of all possible outcomes of an experiment.\n",
        "- **Event:** A subset of the sample space, representing a specific outcome or a set of outcomes.\n",
        "  \n",
        "##### Types of Events:\n",
        "1. **Independent Events:** Two events are independent if the occurrence of one does not affect the probability of the other.\n",
        "2. **Dependent Events:** Two events are dependent if the occurrence of one event affects the probability of the other.\n",
        "3. **Mutually Exclusive Events:** Two events are mutually exclusive if they cannot occur at the same time.\n",
        "\n",
        "##### Important Rules:\n",
        "- **Addition Rule (for mutually exclusive events):**\n",
        "  If $ A $ and $ B $ are mutually exclusive, then:\n",
        "  $$\n",
        "  P(A \\cup B) = P(A) + P(B)\n",
        "  $$\n",
        "\n",
        "- **Multiplication Rule (for independent events):**\n",
        "  If $ A $ and $ B $ are independent, then:\n",
        "  $$\n",
        "  P(A \\cap B) = P(A) \\times P(B)\n",
        "  $$\n",
        "\n",
        "##### Applications:\n",
        "- **Coin Tossing:**\n",
        "   The probability of getting heads or tails in a fair coin toss is $ \\frac{1}{2} $.\n",
        "- **Rolling Dice:**\n",
        "   The probability of rolling a 4 on a fair six-sided die is $ \\frac{1}{6} $."
      ],
      "metadata": {
        "id": "NX8um-6Nh6Pu"
      }
    },
    {
      "cell_type": "markdown",
      "source": [
        "###<a name='1'></a>*Join probability*"
      ],
      "metadata": {
        "id": "hLrJL-rBlLl7"
      }
    },
    {
      "cell_type": "markdown",
      "source": [
        "#####In probability theory, **joint probability** refers to the probability of two or more events happening simultaneously. It is denoted as $ P(A \\cap B) $, representing the probability of both events $ A $ and $ B $ occurring at the same time.\n",
        "\n",
        "##### Joint Probability Formula:\n",
        "- For **independent events** $ A $ and $ B $, the joint probability is calculated as:\n",
        "\n",
        "$$\n",
        "P(A \\cap B) = P(A) \\times P(B)\n",
        "$$\n",
        "\n",
        "- For **dependent events**, where the occurrence of one event affects the probability of the other, the joint probability is given by:\n",
        "\n",
        "$$\n",
        "P(A \\cap B) = P(A) \\times P(B|A)\n",
        "$$\n",
        "\n",
        "#####Where $ P(B|A) $ is the **conditional probability** of event $ B $ occurring given that event $ A $ has occurred.\n",
        "\n",
        "##### Key Concepts:\n",
        "- **Independent Events:** Events $ A $ and $ B $ are independent if the occurrence of $ A $ does not affect the occurrence of $ B $, and vice versa.\n",
        "- **Dependent Events:** Events $ A $ and $ B $ are dependent if the occurrence of $ A $ influences the occurrence of $ B $.\n",
        "- **Conditional Probability:** The probability of event $ B $ occurring given event $ A $ has already happened, denoted as $ P(B|A) $.\n",
        "\n",
        "##### Examples:\n",
        "- **Independent Events:**\n",
        "   If you flip a coin and roll a die, the probability of getting heads and rolling a 4 is:\n",
        "\n",
        "   $$\n",
        "   P(\\text{heads on coin} \\cap \\text{4 on die}) = P(\\text{heads on coin}) \\times P(\\text{4 on die}) = \\frac{1}{2} \\times \\frac{1}{6} = \\frac{1}{12}.\n",
        "   $$\n",
        "\n",
        "- **Dependent Events:**\n",
        "   In a deck of cards, if you draw a card and then draw another without replacement, the probability of drawing a red card first and another red card second is:\n",
        "\n",
        "   $$\n",
        "   P(\\text{red on 1st draw} \\cap \\text{red on 2nd draw}) = P(\\text{red on 1st draw}) \\times P(\\text{red on 2nd draw | red on 1st draw}).\n",
        "   $$"
      ],
      "metadata": {
        "id": "cqyto1egkzUC"
      }
    },
    {
      "cell_type": "markdown",
      "source": [
        "###<a name='2'></a>*Alternative Probability*"
      ],
      "metadata": {
        "id": "m3v8awJjoZrd"
      }
    },
    {
      "cell_type": "markdown",
      "source": [
        "#####Alternative probability refers to a situation where two or more events are considered, and one or the other must occur. It is the probability that one of two (or more) events will happen.\n",
        "\n",
        "##### Formula:\n",
        "If $A$ and $B$ are two events, the alternative probability (the probability that either event $A$ or event $B$ will occur) is given by:\n",
        "\n",
        "$$\n",
        "P(A \\cup B) = P(A) + P(B) - P(A \\cap B)\n",
        "$$\n",
        "\n",
        "#####Where:\n",
        "- $P(A \\cup B)$ is the probability that event $A$ **or** event $B$ will occur,\n",
        "- $P(A)$ is the probability of event $A$,\n",
        "- $P(B)$ is the probability of event $B$,\n",
        "- $P(A \\cap B)$ is the probability that both events $A$ and $B$ occur simultaneously (their intersection).\n",
        "\n",
        "##### Example:\n",
        "If $A$ is the event \"flipping a head\" on a coin (with probability $P(A) = \\frac{1}{2}$), and $B$ is the event \"rolling a 4 on a die\" (with probability $P(B) = \\frac{1}{6}$), the probability that we will get a head **or** a 4 on the die is:\n",
        "\n",
        "$$\n",
        "P(A \\cup B) = P(A) + P(B) - P(A \\cap B)\n",
        "$$\n",
        "\n",
        "Assuming that flipping a coin and rolling a die are independent events, we have:\n",
        "\n",
        "$$\n",
        "P(A \\cap B) = P(A) \\times P(B) = \\frac{1}{2} \\times \\frac{1}{6} = \\frac{1}{12}\n",
        "$$\n",
        "\n",
        "So:\n",
        "\n",
        "$$\n",
        "P(A \\cup B) = \\frac{1}{2} + \\frac{1}{6} - \\frac{1}{12} = \\frac{2}{3}\n",
        "$$\n"
      ],
      "metadata": {
        "id": "hj5n4VINob7D"
      }
    },
    {
      "cell_type": "markdown",
      "source": [
        "###<a name='3'></a>*Bayes' Theorem*"
      ],
      "metadata": {
        "id": "SYHDRPIksbl4"
      }
    },
    {
      "cell_type": "markdown",
      "source": [
        "#####Bayes' Theorem is a fundamental concept in probability theory that describes the probability of an event, based on prior knowledge of conditions that might be related to the event. It allows for the updating of probabilities when new evidence is available.\n",
        "\n",
        "##### Formula:\n",
        "#####Bayes' Theorem is given by the formula:\n",
        "\n",
        "$$\n",
        "P(A|B) = \\frac{P(B|A) \\times P(A)}{P(B)}\n",
        "$$\n",
        "\n",
        "Where:\n",
        "- $P(A|B)$ is the **posterior probability**, the probability of event $A$ given event $B$ has occurred,\n",
        "- $P(B|A)$ is the **likelihood**, the probability of event $B$ given event $A$,\n",
        "- $P(A)$ is the **prior probability** of event $A$,\n",
        "- $P(B)$ is the **marginal likelihood** or the total probability of event $B$.\n",
        "\n",
        "##### Example:\n",
        "Suppose:\n",
        "- $P(A) = 0.1$ (prior probability of event $A$),\n",
        "- $P(B|A) = 0.8$ (probability of $B$ given $A$),\n",
        "- $P(B) = 0.5$ (total probability of $B$).\n",
        "\n",
        "Using Bayes' Theorem, the posterior probability $P(A|B)$ is:\n",
        "\n",
        "$$\n",
        "P(A|B) = \\frac{P(B|A) \\times P(A)}{P(B)} = \\frac{0.8 \\times 0.1}{0.5} = 0.16\n",
        "$$\n"
      ],
      "metadata": {
        "id": "mZp0s919sgSF"
      }
    },
    {
      "cell_type": "markdown",
      "source": [
        "###<a name='4'></a>*Conditional Probability*"
      ],
      "metadata": {
        "id": "kf5OS85jUA--"
      }
    },
    {
      "cell_type": "markdown",
      "source": [
        "#####Conditional probability is the probability that event $A$ occurs given that event $B$ has already occurred. It is expressed as $P(A|B)$, where $A$ is the event we want to calculate the probability for, and $B$ is the event that is already known to have occurred.\n",
        "\n",
        "##### Formula:\n",
        "The conditional probability is given by the formula:\n",
        "\n",
        "$$\n",
        "P(A|B) = \\frac{P(A \\cap B)}{P(B)}\n",
        "$$\n",
        "\n",
        "Where:\n",
        "- $P(A|B)$ is the probability that event $A$ occurs given that event $B$ has already occurred,\n",
        "- $P(A \\cap B)$ is the probability that both events $A$ and $B$ occur simultaneously,\n",
        "- $P(B)$ is the probability of event $B$.\n",
        "\n",
        "##### Example:\n",
        "Suppose we have a deck of 100 cards, with 40 red cards and 60 black cards. If we have already drawn a red card (event $B$), the probability of drawing another red card (event $A$) is:\n",
        "\n",
        "$$\n",
        "P(A|B) = \\frac{P(A \\cap B)}{P(B)} = \\frac{P(\\text{red card})}{P(\\text{drawing a red card})} = \\frac{40}{100} = 0.4\n",
        "$$\n"
      ],
      "metadata": {
        "id": "uAuUg1mwTwlj"
      }
    },
    {
      "cell_type": "markdown",
      "source": [
        "###<a name='5'></a>*Combining Conditional and Alternative Probability*"
      ],
      "metadata": {
        "id": "FHz9JSEaUWAG"
      }
    },
    {
      "cell_type": "markdown",
      "source": [
        "#####If we have two events, $A$ and $B$, and we want to calculate the alternative probability with the conditional, we can express it using the following formula:\n",
        "\n",
        "$$\n",
        "P(A \\cup B) = P(A) + P(B) - P(A \\cap B)\n",
        "$$\n",
        "\n",
        "If one of these events is conditional, for example $P(A|B)$, we can use the formula:\n",
        "\n",
        "$$\n",
        "P(A \\cap B) = P(A|B) \\times P(B)\n",
        "$$\n",
        "\n",
        "Substituting this into the formula for alternative probability, we get:\n",
        "\n",
        "$$\n",
        "P(A \\cup B) = P(A) + P(B) - P(A|B) \\times P(B)\n",
        "$$\n",
        "\n",
        "##### **Example:**\n",
        "\n",
        "Let's assume we have two events:\n",
        "\n",
        "- $A$: \"Getting heads on a coin toss\" (probability $P(A) = 0.5$),\n",
        "- $B$: \"Rolling a 4 on a die\" (probability $P(B) = \\frac{1}{6}$).\n",
        "\n",
        "We want to calculate the probability of getting heads **or** a 4 on the die, assuming the events are independent:\n",
        "\n",
        "1. **Joint Probability** $P(A \\cap B)$, since the events are independent, is:\n",
        "\n",
        "$$\n",
        "P(A \\cap B) = P(A) \\times P(B) = \\frac{1}{2}  \\times \\frac{1}{6} = \\frac{1}{12}\n",
        "$$\n",
        "\n",
        "2. **Alternative Probability**:\n",
        "\n",
        "$$\n",
        "P(A \\cup B) = P(A) + P(B) - P(A \\cap B) = \\frac{1}{2} + \\frac{1}{6} - \\frac{1}{12} = \\frac{7}{12}\n",
        "$$\n",
        "\n",
        "3. **If we assume conditional probability**, for example, $P(A|B)$, we can calculate it using the formula:\n",
        "\n",
        "$$\n",
        "P(A|B) = \\frac{P(A \\cap B)}{P(B)} = \\frac{\\frac{1}{12}}{\\frac{1}{6}} = \\frac{1}{2}\n",
        "$$\n",
        "\n"
      ],
      "metadata": {
        "id": "Ek5KRGFUUTDD"
      }
    },
    {
      "cell_type": "markdown",
      "source": [
        "###<a name='6'></a>*Binomial Distribution*"
      ],
      "metadata": {
        "id": "-w7KnlxLcAOx"
      }
    },
    {
      "cell_type": "markdown",
      "source": [
        "#####The **binomial distribution** is a discrete probability distribution that models the number of successes in a fixed number of independent trials of a binary experiment. Each trial has only two possible outcomes: **success** or **failure**.\n",
        "\n",
        "##### **Key Characteristics:**\n",
        "1. **Fixed Number of Trials ($n$):**\n",
        "   The experiment is repeated $n$ times.\n",
        "\n",
        "2. **Two Outcomes:**\n",
        "   Each trial results in success (with probability $p$) or failure (with probability $1 - p$).\n",
        "\n",
        "3. **Independence:**\n",
        "   The outcome of one trial does not affect the outcome of other trials.\n",
        "\n",
        "4. **Random Variable ($X$):**\n",
        "   $X$ represents the number of successes in $n$ trials.\n",
        "\n",
        "\n",
        "##### **Probability Mass Function (PMF):**\n",
        "#####The probability of observing exactly $k$ successes in $n$ trials is given by:\n",
        "\n",
        "$$\n",
        "P(X = k) = \\binom{n}{k} p^k (1 - p)^{n - k}\n",
        "$$\n",
        "\n",
        "#####Where:\n",
        "- $n$: Total number of trials,\n",
        "- $k$: Number of successes,\n",
        "- $p$: Probability of success in a single trial,\n",
        "- $\\binom{n}{k}$: Binomial coefficient, calculated as:\n",
        "  $$\n",
        "  \\binom{n}{k} = \\frac{n!}{k! (n - k)!}\n",
        "  $$\n",
        "\n",
        "\n",
        "\n",
        "##### **Mean and Variance:**\n",
        "- **Mean ($\\mu$):**\n",
        "  $$\n",
        "  \\mu = n \\cdot p\n",
        "  $$\n",
        "- **Variance ($\\sigma^2$):**\n",
        "  $$\n",
        "  \\sigma^2 = n \\cdot p \\cdot (1 - p)\n",
        "  $$\n",
        "\n",
        "\n",
        "##### **Example:**\n",
        "#####Suppose a coin is flipped 10 times, and the probability of getting heads (success) on each flip is $p = 0.5$. The binomial distribution can model the probability of getting exactly $k$ heads.\n",
        "\n",
        "For $k = 3$ successes:\n",
        "$$\n",
        "P(X = 3) = \\binom{10}{3} (0.5)^3 (1 - 0.5)^{10 - 3}\n",
        "= \\frac{10!}{3! \\cdot (10 - 3)!} \\cdot (0.5)^3 \\cdot (0.5)^7\n",
        "= 120 \\cdot 0.00097656\n",
        "= 0.1172\n",
        "$$\n",
        "\n"
      ],
      "metadata": {
        "id": "U-rjzUs4b5rS"
      }
    },
    {
      "cell_type": "markdown",
      "source": [
        "####excercise 2.1\n",
        "\n",
        "#####Throw a fair cube dice $6$ times. Calculate the probability that:\n",
        "\n",
        "#####We throw the number $4$ exactly $3$ times."
      ],
      "metadata": {
        "id": "ReBmIWzkg3HS"
      }
    },
    {
      "cell_type": "code",
      "source": [
        "import scipy.stats as st\n",
        "\n",
        "n = 6\n",
        "p = 1/6\n",
        "k = 3\n",
        "\n",
        "p_x_3 = st.binom.pmf(k,n, p)\n",
        "\n",
        "print(f\"P(X=3): {p_x_3:.4f}\")"
      ],
      "metadata": {
        "colab": {
          "base_uri": "https://localhost:8080/"
        },
        "id": "NRkbxUyxhDHc",
        "outputId": "406d5b55-7c7c-4c66-ebd1-b96e0a0915b3"
      },
      "execution_count": null,
      "outputs": [
        {
          "output_type": "stream",
          "name": "stdout",
          "text": [
            "P(X=3): 0.0536\n"
          ]
        }
      ]
    },
    {
      "cell_type": "markdown",
      "source": [
        "####excercise 2.2\n",
        "\n",
        "#####Throw a fair cube dice $8$ times. Calculate the probability that:\n",
        "\n",
        "#####We will throw out the number $5$ at least $4$ times."
      ],
      "metadata": {
        "id": "SwdQc63Vh6qR"
      }
    },
    {
      "cell_type": "code",
      "source": [
        "n = 8\n",
        "p = 1/6\n",
        "\n",
        "p_x_4 = sum(st.binom.pmf(k,n,p) for k in range(4, n+1))\n",
        "\n",
        "print(f\"P(X >=4): {p_x_4:.4f}\")"
      ],
      "metadata": {
        "colab": {
          "base_uri": "https://localhost:8080/"
        },
        "id": "TkXAIS85iOGg",
        "outputId": "24d23a9b-943c-4666-bc3b-dfbd10e3c8c9"
      },
      "execution_count": null,
      "outputs": [
        {
          "output_type": "stream",
          "name": "stdout",
          "text": [
            "P(X >=4): 0.0307\n"
          ]
        }
      ]
    },
    {
      "cell_type": "markdown",
      "source": [
        "####excercise 2.3\n",
        "\n",
        "#####Throw a fair cube dice $10$ times. Calculate the probability that:\n",
        "\n",
        "#####We will throw out the number $5$ lest than $3$ times."
      ],
      "metadata": {
        "id": "rRujFEaDi2fJ"
      }
    },
    {
      "cell_type": "code",
      "source": [
        "n = 10\n",
        "p = 1/6\n",
        "\n",
        "p_x_lt_3 = sum(st.binom.pmf(k,n,p) for k in range(0,3))\n",
        "\n",
        "print(f\"P(X < 3): {p_x_lt_3:.4f}\")"
      ],
      "metadata": {
        "colab": {
          "base_uri": "https://localhost:8080/"
        },
        "id": "Pz-C30gOi-l4",
        "outputId": "8fd471d2-7803-479a-f658-943620591a64"
      },
      "execution_count": null,
      "outputs": [
        {
          "output_type": "stream",
          "name": "stdout",
          "text": [
            "P(X < 3): 0.7752\n"
          ]
        }
      ]
    },
    {
      "cell_type": "markdown",
      "source": [
        "###<a name='7'></a>*Beta Distribution*"
      ],
      "metadata": {
        "id": "7mRtXUMNpMSr"
      }
    },
    {
      "cell_type": "markdown",
      "source": [
        "##### The **Beta distribution** is a continuous probability distribution defined on the interval [0, 1]. It is commonly used to model the distribution of probabilities or proportions.\n",
        "\n",
        "##### Parameters:\n",
        "- **α (alpha)**: Number of successes.\n",
        "- **β (beta)**: Number of failures.\n",
        "\n",
        "##### Probability Density Function (PDF):\n",
        "#####The PDF of the Beta distribution is:\n",
        "\n",
        "$$\n",
        "f(x; \\alpha, \\beta) = \\frac{x^{\\alpha-1} (1-x)^{\\beta-1}}{B(\\alpha, \\beta)}\n",
        "$$\n",
        "\n",
        "where $ B(\\alpha, \\beta) $ is the Beta function.\n",
        "\n",
        "##### Cumulative Distribution Function (CDF):\n",
        "#####The CDF of the Beta distribution gives the cumulative probability up to a certain point $ x $ and is defined as the integral of the PDF from 0 to $ x $:\n",
        "\n",
        "$$\n",
        "F(x; \\alpha, \\beta) = \\int_0^x \\frac{t^{\\alpha-1} (1-t)^{\\beta-1}}{B(\\alpha, \\beta)} dt\n",
        "$$\n",
        "\n",
        "#####The CDF is useful for calculating the probability that the random variable $ X $ will take a value less than or equal to $ x $. It is used in cases where you want to find the probability that a success rate or proportion falls within a certain range.\n",
        "\n",
        "\n"
      ],
      "metadata": {
        "id": "ZA3fjk_FpO8i"
      }
    },
    {
      "cell_type": "markdown",
      "source": [],
      "metadata": {
        "id": "kGP-8CfYu-Tz"
      }
    },
    {
      "cell_type": "markdown",
      "source": [
        "####excercise 2.4\n",
        "\n",
        "#####Calculate the probability that the success rate (e.g., percentage of successes) in an experiment described by a Beta distribution with 8 successes and 2 failures will be less than or equal to 90%. Use the `cdf` function from the `scipy.stats.beta` library to compute this probability.\n"
      ],
      "metadata": {
        "id": "Pz-yI--fvLgu"
      }
    },
    {
      "cell_type": "code",
      "source": [
        "from scipy.stats import beta\n",
        "\n",
        "a = 8\n",
        "b = 2\n",
        "\n",
        "p = beta.cdf(.90, a,b)\n",
        "\n",
        "print(f\"Probability is equal to: {p*100:.2f} %\")"
      ],
      "metadata": {
        "colab": {
          "base_uri": "https://localhost:8080/"
        },
        "id": "ODzKWbtVumDO",
        "outputId": "335d972d-47ad-4486-d3dc-aa30ce0a8b93"
      },
      "execution_count": null,
      "outputs": [
        {
          "output_type": "stream",
          "name": "stdout",
          "text": [
            "Probability is equal to: 77.48 %\n"
          ]
        }
      ]
    },
    {
      "cell_type": "markdown",
      "source": [
        "#### Exercise 2.5\n",
        "\n",
        "##### Calculate the probability that the success rate (e.g., percentage of successes) in an experiment described by a Beta distribution with 8 successes and 2 failures will be greater than 90%.\n"
      ],
      "metadata": {
        "id": "ZfM4BYVgv8z-"
      }
    },
    {
      "cell_type": "code",
      "source": [
        "from scipy.stats import beta\n",
        "\n",
        "a = 8\n",
        "b = 2\n",
        "\n",
        "p = 1- beta.cdf(.90, a,b)\n",
        "\n",
        "print(f\"Probability is equal to: {p*100:.2f} %\")"
      ],
      "metadata": {
        "colab": {
          "base_uri": "https://localhost:8080/"
        },
        "id": "nY_M3XAavxDJ",
        "outputId": "b352e47f-5e0d-4ba5-83a1-4016423c6adc"
      },
      "execution_count": null,
      "outputs": [
        {
          "output_type": "stream",
          "name": "stdout",
          "text": [
            "Probability is equal to: 22.52 %\n"
          ]
        }
      ]
    },
    {
      "cell_type": "markdown",
      "source": [
        "#### Exercise 2.6\n",
        "\n",
        "##### Calculate the probability that the success rate (e.g., percentage of successes) in an experiment described by a Beta distribution with 17 successes and 3 failures will fall between 70% and 90%.\n"
      ],
      "metadata": {
        "id": "GAgqrYUow4AL"
      }
    },
    {
      "cell_type": "code",
      "source": [
        "a = 17\n",
        "b = 3\n",
        "\n",
        "p = beta.cdf(.90, a, b) - beta.cdf(.70, a, b)\n",
        "\n",
        "print(f\"Probability is equal to: {p*100:.2f} %\")"
      ],
      "metadata": {
        "colab": {
          "base_uri": "https://localhost:8080/"
        },
        "id": "9dZGGXKvwnya",
        "outputId": "652b78c0-6382-476c-b905-6928045ade4d"
      },
      "execution_count": null,
      "outputs": [
        {
          "output_type": "stream",
          "name": "stdout",
          "text": [
            "Probability is equal to: 65.92 %\n"
          ]
        }
      ]
    },
    {
      "cell_type": "code",
      "source": [
        "from scipy.stats import beta\n",
        "\n",
        "a = 17\n",
        "b = 3\n",
        "\n",
        "# Obliczanie PDF dla x = 0.9\n",
        "x = 0.77\n",
        "pdf_value = beta.pdf(x, a, b)\n",
        "\n",
        "print(f\"PDF value for x = {x} is: {pdf_value}\")\n"
      ],
      "metadata": {
        "colab": {
          "base_uri": "https://localhost:8080/"
        },
        "id": "m-kL5ATpxw44",
        "outputId": "c46f5575-7d8a-488b-91ce-ae49fab34ae0"
      },
      "execution_count": null,
      "outputs": [
        {
          "output_type": "stream",
          "name": "stdout",
          "text": [
            "PDF value for x = 0.77 is: 2.3482931245935452\n"
          ]
        }
      ]
    },
    {
      "cell_type": "code",
      "source": [
        "from scipy.stats import beta\n",
        "\n",
        "a = 17\n",
        "b = 3\n",
        "\n",
        "# Obliczanie CDF dla x = 0.9\n",
        "x = 0.77\n",
        "cdf_value = beta.cdf(x, a, b)\n",
        "\n",
        "print(f\"CDF value for x = {x} is: {cdf_value}\")\n"
      ],
      "metadata": {
        "colab": {
          "base_uri": "https://localhost:8080/"
        },
        "id": "iQ2HzpvcxyZj",
        "outputId": "87bb2174-2bb3-45a4-e497-7e6aeccf36d9"
      },
      "execution_count": null,
      "outputs": [
        {
          "output_type": "stream",
          "name": "stdout",
          "text": [
            "CDF value for x = 0.77 is: 0.15290062813177863\n"
          ]
        }
      ]
    }
  ]
}